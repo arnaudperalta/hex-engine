{
 "cells": [
  {
   "cell_type": "markdown",
   "id": "million-greece",
   "metadata": {},
   "source": [
    "# L'algorithme SSS*"
   ]
  },
  {
   "cell_type": "markdown",
   "id": "lonely-skiing",
   "metadata": {},
   "source": [
    "**1. Présentation de l'algorithme**"
   ]
  },
  {
   "cell_type": "markdown",
   "id": "continent-nickel",
   "metadata": {},
   "source": [
    "SSS* est un algorithme conçu pour calculé la valeur minimax d'un arbre de jeu, en effet il est a été établit de façon à parcourir les noeuds d'un arbre d'une façon différente et pour un total de noeud visité inférieur à l'algorithme Minimax alpha-beta.\n",
    "\n",
    "Tout comme Negamax, la fonction d'évaluation doit être revisité de façon à changer le signe du résultat selon le joueur maximisant l'évaluation."
   ]
  },
  {
   "cell_type": "code",
   "execution_count": null,
   "id": "touched-statistics",
   "metadata": {},
   "outputs": [],
   "source": [
    "from hex_game import hex\n",
    "\n",
    "# Création et préparation d'un plateau de hex\n",
    "board = hex.Board()\n",
    "\n",
    "board.push(hex.Board.B2)\n",
    "board.push(hex.Board.D1)\n",
    "board.push(hex.Board.A2)\n",
    "board.push(hex.Board.D2)\n",
    "board.push(hex.Board.C2)\n",
    "board.push(hex.Board.D3)\n",
    "board.push(hex.Board.E6)\n",
    "board.push(hex.Board.D4)\n",
    "\n",
    "print(board)"
   ]
  },
  {
   "cell_type": "markdown",
   "id": "attached-workplace",
   "metadata": {},
   "source": [
    "**2. Exécution de l'algorithme**"
   ]
  },
  {
   "cell_type": "markdown",
   "id": "reduced-supply",
   "metadata": {},
   "source": [
    "Nous pouvons désormais comparer les temps d'exécution de Minimax alpha-beta, de Negamax et de SSS* :"
   ]
  },
  {
   "cell_type": "code",
   "execution_count": null,
   "id": "related-significance",
   "metadata": {},
   "outputs": [],
   "source": [
    "from hex_engine import sss_engine\n",
    "from hex_engine import minimax_engine\n",
    "from hex_engine import negamax_engine\n",
    "from math import inf\n",
    "import time\n",
    "\n",
    "# On exécute minimax sur le plateau actuel avec le jouer rouge\n",
    "# comme joueur maximisant (puisqu'un coup rouge vient d'être joué)\n",
    "# avec une profondeur de 2.\n",
    "start_time = time.time()\n",
    "print(\"Résultat de SSS* : \" + str(sss_engine.sss_star(board, hex.Board.RED, 2)))\n",
    "print(\"Première exécution SSS* : %s secondes\" % (time.time() - start_time))\n",
    "start_time = time.time()\n",
    "print(\"Résultat de Minimax : \" + str(minimax_engine.minimax_ab(board, -inf, inf, hex.Board.RED, 2)))\n",
    "print(\"Première exécution Minimax : %s secondes\" % (time.time() - start_time))\n",
    "start_time = time.time()\n",
    "print(\"Résultat de Negamax* : \" + str(negamax_engine.negamax_ab(board, -inf, inf, hex.Board.RED, 2)))\n",
    "print(\"Première exécution Negamax : %s secondes\" % (time.time() - start_time))\n",
    "\n",
    "# Que serait l'évaluation si le coup précédent était déplacer ailleurs sur le plateau ?\n",
    "board.pop()\n",
    "board.push(hex.Board.K10)\n",
    "start_time = time.time()\n",
    "print(\"Résultat de SSS* : \" + str(sss_engine.sss_star(board, hex.Board.RED, 2)))\n",
    "print(\"Seconde exécution SSS* : %s secondes\" % (time.time() - start_time))\n",
    "start_time = time.time()\n",
    "print(\"Résultat de Minimax : \" + str(minimax_engine.minimax_ab(board, -inf, inf, hex.Board.RED, 2)))\n",
    "print(\"Seconde exécution Minimax : %s secondes\" % (time.time() - start_time))\n",
    "start_time = time.time()\n",
    "print(\"Résultat de Negamax* : \" + str(negamax_engine.negamax_ab(board, -inf, inf, hex.Board.RED, 2)))\n",
    "print(\"Seconde exécution Negamax : %s secondes\" % (time.time() - start_time))"
   ]
  },
  {
   "cell_type": "markdown",
   "id": "genetic-thomas",
   "metadata": {},
   "source": [
    "**3. Jeu libre contre l'algorithme**"
   ]
  },
  {
   "cell_type": "code",
   "execution_count": null,
   "id": "absent-wednesday",
   "metadata": {},
   "outputs": [],
   "source": [
    "from IPython.display import clear_output\n",
    "from hex_game import hex\n",
    "from hex_engine import sss_engine\n",
    "import time\n",
    "\n",
    "board = hex.Board()\n",
    "\n",
    "while not board.is_game_over():\n",
    "    clear_output(wait=True)\n",
    "    print(board)\n",
    "    while True:\n",
    "        time.sleep(0.5)\n",
    "        move = input()\n",
    "        try:\n",
    "            board.push(hex.parse_move(move))\n",
    "            break\n",
    "        except hex.InvalidMoveError:\n",
    "            print(\"Coup invalide !\")\n",
    "            continue\n",
    "    print(\"Exécution de SSS* ...\")\n",
    "    # On peux augmenter la profondeur selon l'efficacité du kernel.\n",
    "    if not board.is_game_over():\n",
    "        board.push(sss_engine.get_best_move(board, 2, board.turn))\n",
    "\n",
    "clear_output(wait=True)\n",
    "print(board)\n",
    "if board.is_blue_winner():\n",
    "    print(\"Le joueur bleu à gagné la partie !\")\n",
    "else:\n",
    "    print(\"Le joueur rouge à gagné la partie !\")"
   ]
  }
 ],
 "metadata": {
  "kernelspec": {
   "display_name": "Python 3",
   "language": "python",
   "name": "python3"
  },
  "language_info": {
   "codemirror_mode": {
    "name": "ipython",
    "version": 3
   },
   "file_extension": ".py",
   "mimetype": "text/x-python",
   "name": "python",
   "nbconvert_exporter": "python",
   "pygments_lexer": "ipython3",
   "version": "3.8.5"
  }
 },
 "nbformat": 4,
 "nbformat_minor": 5
}
