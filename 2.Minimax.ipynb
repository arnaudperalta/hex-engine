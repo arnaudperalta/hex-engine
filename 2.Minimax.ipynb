{
 "cells": [
  {
   "cell_type": "markdown",
   "id": "regulated-finger",
   "metadata": {},
   "source": [
    "# L'algorithme Minimax alpha-beta"
   ]
  },
  {
   "cell_type": "markdown",
   "id": "angry-remainder",
   "metadata": {},
   "source": [
    "**1. Présentation de l'algorithme**\n"
   ]
  },
  {
   "cell_type": "markdown",
   "id": "exclusive-gather",
   "metadata": {},
   "source": [
    "Minimax est un algortihme basé sur l'étiquettage d'une arborescence de jeu, on y considére un joueur maximisant les évaluations du plateau de jeu et un autre joueur voulant minimiser chacune des évaluations. Lorsque l'on désirera connaître le meilleur coup à jouer pour une certaine couleur, on considerera cette couleur comme maximisante et exécuterons l'algorithme pour chacun des coups possibles depuis cette position.\n",
    "\n",
    "L'évaluation d'un plateau du jeu de Hex est une fonction heuristique basé sur la différence du chemin restant à faire pour la victoire entre les deux joueurs. Par exemple, si le joueur bleu est à 3 cases d'avoir une ligne rejoignant ses deux côtés, et qu'il manque cependant 4 cases pour le joueur rouge, dans ce cas l'évalution de ce plateau sera de `1`. Le calcul de ces distances est réalisé par l'algorithme de Dijkstra, le plateau est considéré comme un graph où chaque hexgone est un sommet de ce graphe.\n",
    "\n",
    "Soit : `score_joueur_rouge - score_joueur_bleu = score d'évaluation`\n",
    "\n",
    "Le résultat de la fonction étant positif, on y considére que le joueur bleu à un avantage sur le joueur rouge."
   ]
  },
  {
   "cell_type": "code",
   "execution_count": null,
   "id": "cathedral-growing",
   "metadata": {
    "scrolled": true
   },
   "outputs": [],
   "source": [
    "from hex_game import hex\n",
    "from hex_engine import common\n",
    "\n",
    "# Création d'un plateau de hex\n",
    "board = hex.Board()\n",
    "\n",
    "# On joue plusieurs coups\n",
    "board.push(hex.Board.B2)\n",
    "board.push(hex.Board.D1)\n",
    "board.push(hex.Board.A2)\n",
    "board.push(hex.Board.D2)\n",
    "board.push(hex.Board.C2)\n",
    "board.push(hex.Board.D3)\n",
    "board.push(hex.Board.E6)\n",
    "board.push(hex.Board.D4)\n",
    "\n",
    "print(board)\n",
    "print(\"Score du joueur bleu : \" + str(common.get_score(board, hex.Board.BLUE)))\n",
    "print(\"Score du joueur rouge : \" + str(common.get_score(board, hex.Board.RED)))\n",
    "print(\"Évaluation du plateau : \" + str(common.board_evaluation(board)))"
   ]
  },
  {
   "cell_type": "markdown",
   "id": "supreme-possible",
   "metadata": {},
   "source": [
    "Plus l'évaluation tend vers l'infini, plus le joueur bleu est considéré comme avantagé dans la partie, inversément pour le joueur rouge où l'évaluation devra tendre l'infini négatif."
   ]
  },
  {
   "cell_type": "markdown",
   "id": "flying-effort",
   "metadata": {},
   "source": [
    "Minimax est donc une fonction récursive qui va construire un arbre selon une profondeur donnée, qui à chaque niveau de l'arbre va jouer tous les coups possibles pour chaque joueur à tour de rôle. Selon le joueur maximisant l'évaluation, il prendra le maximum ou le minimum des évaluations de tous les coups des feuilles jusqu'à la racine pour donner son évaluation finale du plateau."
   ]
  },
  {
   "cell_type": "code",
   "execution_count": null,
   "id": "offshore-momentum",
   "metadata": {},
   "outputs": [],
   "source": [
    "from hex_engine import minimax_engine\n",
    "from math import inf\n",
    "\n",
    "# On exécute minimax sur le plateau actuel avec le jouer rouge\n",
    "# comme joueur maximisant (puisqu'un coup rouge vient d'être joué)\n",
    "# avec une profondeur de 2.\n",
    "print(\"Première exécution : \" + str(minimax_engine.minimax_ab(board, -inf, inf, hex.Board.RED, 2)))\n",
    "\n",
    "# Que serait l'évaluation si le coup précédent était déplacer ailleurs sur le plateau ?\n",
    "board.pop()\n",
    "board.push(hex.Board.K10)\n",
    "print(\"Seconde exécution : \" + str(minimax_engine.minimax_ab(board, -inf, inf, hex.Board.RED, 2)))"
   ]
  },
  {
   "cell_type": "markdown",
   "id": "german-campbell",
   "metadata": {},
   "source": [
    "Sans surprise, le résultat retourné par la deuxième exécution de minimax est inférieur à la première. \n",
    "\n",
    "Pour connaitre le meilleur coup à jouer sur le plateau, il ne reste qu'à exécuter minimax pour chaque coups possibles puis de choisir le coup ayant le meilleur résultat selon minimax. Il existe une fonction dans le package `minimax_engine` qui fait cela !"
   ]
  },
  {
   "cell_type": "code",
   "execution_count": null,
   "id": "artistic-resource",
   "metadata": {},
   "outputs": [],
   "source": [
    "# C'est donc au tour du joueur bleu de faire un coup\n",
    "# Attention, l'exécution est un peu longue compte tenu du nombre de coups possibles.\n",
    "board.push(minimax_engine.get_best_move(board, 2, hex.Board.BLUE))\n",
    "print(board)"
   ]
  },
  {
   "cell_type": "markdown",
   "id": "coupled-edwards",
   "metadata": {},
   "source": [
    "Le suffixe alpha-beta est un ajout à l'algorithme Minimax lui permettant de ne pas calculer certaines des évaluations du plateau, lorsqu'il n'est pas nécessaire de le faire dans l'arbre."
   ]
  },
  {
   "cell_type": "markdown",
   "id": "therapeutic-perception",
   "metadata": {},
   "source": [
    "**2. Exécution de l'algorithme**"
   ]
  },
  {
   "cell_type": "markdown",
   "id": "employed-appointment",
   "metadata": {},
   "source": [
    "On peut maintenant exécuter l'algorithme contre lui même de façon a finir la partie et observer le comportement sur une partie complète."
   ]
  },
  {
   "cell_type": "code",
   "execution_count": null,
   "id": "unlimited-greeting",
   "metadata": {},
   "outputs": [],
   "source": [
    "while not board.is_game_over():\n",
    "    # On peux augmenter la profondeur selon l'efficacité du kernel.\n",
    "    board.push(minimax_engine.get_best_move(board, 1, board.turn))\n",
    "    \n",
    "print(board)"
   ]
  },
  {
   "cell_type": "markdown",
   "id": "earlier-annotation",
   "metadata": {},
   "source": [
    "**3. Jeu libre contre l'algorithme**"
   ]
  },
  {
   "cell_type": "markdown",
   "id": "concrete-vegetarian",
   "metadata": {},
   "source": [
    "Pour jouer contre l'algorithme, il est possible d'utiliser la fonction `parse_move(str)` du package hex_game de façon à saisir dans l'entrée standard un coup à jouer sur le plateau."
   ]
  },
  {
   "cell_type": "code",
   "execution_count": null,
   "id": "national-deputy",
   "metadata": {},
   "outputs": [],
   "source": [
    "from IPython.display import clear_output\n",
    "\n",
    "board = hex.Board()\n",
    "\n",
    "while not board.is_game_over():\n",
    "    clear_output(wait=True)\n",
    "    print(board)\n",
    "    while True:\n",
    "        move = input()\n",
    "        try:\n",
    "            board.push(hex.parse_move(move))\n",
    "            break\n",
    "        except hex.InvalidMoveError:\n",
    "            print(\"Coup invalide !\")\n",
    "            continue\n",
    "    print(\"Exécution de minimax ...\")\n",
    "    # On peux augmenter la profondeur selon l'efficacité du kernel.\n",
    "    if not board.is_game_over():\n",
    "        board.push(minimax_engine.get_best_move(board, 1, board.turn))\n",
    "\n",
    "if board.is_blue_winner():\n",
    "    print(\"Le joueur bleu à gagné la partie !\")\n",
    "else:\n",
    "    print(\"Le joueur rouge à gagné la partie !\")\n",
    "print(board)"
   ]
  }
 ],
 "metadata": {
  "kernelspec": {
   "display_name": "Python 3",
   "language": "python",
   "name": "python3"
  },
  "language_info": {
   "codemirror_mode": {
    "name": "ipython",
    "version": 3
   },
   "file_extension": ".py",
   "mimetype": "text/x-python",
   "name": "python",
   "nbconvert_exporter": "python",
   "pygments_lexer": "ipython3",
   "version": "3.8.5"
  }
 },
 "nbformat": 4,
 "nbformat_minor": 5
}
