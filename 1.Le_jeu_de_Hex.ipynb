{
 "metadata": {
  "language_info": {
   "codemirror_mode": {
    "name": "ipython",
    "version": 3
   },
   "file_extension": ".py",
   "mimetype": "text/x-python",
   "name": "python",
   "nbconvert_exporter": "python",
   "pygments_lexer": "ipython3",
   "version": "3.8.5-final"
  },
  "orig_nbformat": 2,
  "kernelspec": {
   "name": "python385jvsc74a57bd031f2aee4e71d21fbe5cf8b01ff0e069b9275f58929596ceb00d14d90e3e16cd6",
   "display_name": "Python 3.8.5 64-bit"
  },
  "metadata": {
   "interpreter": {
    "hash": "31f2aee4e71d21fbe5cf8b01ff0e069b9275f58929596ceb00d14d90e3e16cd6"
   }
  }
 },
 "nbformat": 4,
 "nbformat_minor": 2,
 "cells": [
  {
   "cell_type": "code",
   "execution_count": 2,
   "metadata": {
    "tags": []
   },
   "outputs": [
    {
     "output_type": "stream",
     "name": "stdout",
     "text": [
      "w  b  .  .  .  .  .  .  .  .  .  \n  w  b  .  .  .  .  .  .  .  .  .  \n    w  b  .  .  .  .  .  .  .  .  .  \n      w  b  .  .  .  .  .  .  .  .  .  \n        w  b  .  .  .  .  .  .  .  .  .  \n          w  b  .  .  .  .  .  .  .  .  .  \n            w  b  .  .  .  .  .  .  .  .  .  \n              w  b  .  .  .  .  .  .  .  .  .  \n                w  b  .  .  .  .  .  .  .  .  .  \n                  w  b  .  .  .  .  .  .  .  .  .  \n                    w  .  .  .  .  .  .  .  .  .  .  \n"
     ]
    }
   ],
   "source": [
    "from hex_game.board import Board, Move\n",
    "\n",
    "board = Board()\n",
    "board.push(Move(Board.A1))\n",
    "board.push(Move(Board.B1))\n",
    "board.push(Move(Board.A2))\n",
    "board.push(Move(Board.B2))\n",
    "board.push(Move(Board.A3))\n",
    "board.push(Move(Board.B3))\n",
    "board.push(Move(Board.A4))\n",
    "board.push(Move(Board.B4))\n",
    "board.push(Move(Board.A5))\n",
    "board.push(Move(Board.B5))\n",
    "board.push(Move(Board.A6))\n",
    "board.push(Move(Board.B6))\n",
    "board.push(Move(Board.A7))\n",
    "board.push(Move(Board.B7))\n",
    "board.push(Move(Board.A8))\n",
    "board.push(Move(Board.B8))\n",
    "board.push(Move(Board.A9))\n",
    "board.push(Move(Board.B9))\n",
    "board.push(Move(Board.A10))\n",
    "board.push(Move(Board.B10))\n",
    "board.push(Move(Board.A11))\n",
    "print(board)\n",
    "board.is_white_winner()"
   ]
  },
  {
   "cell_type": "code",
   "execution_count": null,
   "metadata": {},
   "outputs": [],
   "source": [
    "from hex_game.board import Board, Move\n",
    "\n",
    "board = Board()\n",
    "board.is_white_winner()"
   ]
  },
  {
   "cell_type": "code",
   "execution_count": null,
   "metadata": {},
   "outputs": [],
   "source": []
  }
 ]
}