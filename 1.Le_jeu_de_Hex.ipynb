{
 "cells": [
  {
   "cell_type": "markdown",
   "metadata": {},
   "source": [
    "# Le jeu de hex et son implémentation"
   ]
  },
  {
   "cell_type": "markdown",
   "metadata": {},
   "source": [
    "**1. Présentation du plateau**\n",
    "\n",
    "Le jeu de Hex est un jeu de société se jouant à deux deux joueurs sur un plateau composé de 11 lignes et 11 colonnes de cellules hexagonal possédant un système de coordonnées dont chacune des lignes est représenté par un numéro et chaque colonnes est représenté par une lettre.\n",
    "\n",
    "Un joueur rouge est désigné, il possède les cotés supérieur et inférieur du plateau.\n",
    "Un joueur bleu quant à lui possédera les côtés gauche et droite du plateau."
   ]
  },
  {
   "cell_type": "code",
   "execution_count": 1,
   "metadata": {
    "scrolled": true,
    "tags": []
   },
   "outputs": [
    {
     "name": "stdout",
     "output_type": "stream",
     "text": [
      "\u001b[31m  A  B  C  D  E  F  G  H  I  J  K\u001b[0m\n",
      "\u001b[34m1  \u001b[0m.  .  .  .  .  .  .  .  .  .  .  \u001b[34m1  \u001b[0m\n",
      "  \u001b[34m2  \u001b[0m.  .  .  .  .  .  .  .  .  .  .  \u001b[34m2  \u001b[0m\n",
      "    \u001b[34m3  \u001b[0m.  .  .  .  .  .  .  .  .  .  .  \u001b[34m3  \u001b[0m\n",
      "      \u001b[34m4  \u001b[0m.  .  .  .  .  .  .  .  .  .  .  \u001b[34m4  \u001b[0m\n",
      "        \u001b[34m5  \u001b[0m.  .  .  .  .  .  .  .  .  .  .  \u001b[34m5  \u001b[0m\n",
      "          \u001b[34m6  \u001b[0m.  .  .  .  .  .  .  .  .  .  .  \u001b[34m6  \u001b[0m\n",
      "            \u001b[34m7  \u001b[0m.  .  .  .  .  .  .  .  .  .  .  \u001b[34m7  \u001b[0m\n",
      "              \u001b[34m8  \u001b[0m.  .  .  .  .  .  .  .  .  .  .  \u001b[34m8  \u001b[0m\n",
      "                \u001b[34m9  \u001b[0m.  .  .  .  .  .  .  .  .  .  .  \u001b[34m9  \u001b[0m\n",
      "                  \u001b[34m10  \u001b[0m.  .  .  .  .  .  .  .  .  .  .  \u001b[34m10  \u001b[0m\n",
      "                    \u001b[34m11  \u001b[0m.  .  .  .  .  .  .  .  .  .  .  \u001b[34m11\n",
      "\u001b[31m                         A  B  C  D  E  F  G  H  I  J  K\u001b[0m\n",
      "\n"
     ]
    }
   ],
   "source": [
    "from hex_game import hex\n",
    "\n",
    "# On construit un objet de type Board selon la classe Board du package hex.\n",
    "board = hex.Board()\n",
    "\n",
    "print(board)"
   ]
  },
  {
   "cell_type": "markdown",
   "metadata": {},
   "source": [
    "Selon ce système de coordonnées, la case situé la plus en haut a gauche se nomme A1, et la plus en bas à droite se nomme K11.\n",
    "\n",
    "Lorsq'un point est affiché sur une case, cela signifie que cette case est vide, autrement on y trouve la couleur de l'hexagone posé sur cette case (`b` ou `r`)."
   ]
  },
  {
   "cell_type": "markdown",
   "metadata": {},
   "source": [
    "**2. Déroulement du jeu**\n",
    "\n",
    "Chaque joueur chacun leur tour doivent placer un hexagone sur le plateau, il n'y a pas de restriction, il est possible de placer de chaque pièce de n'importe quelle façon."
   ]
  },
  {
   "cell_type": "code",
   "execution_count": 2,
   "metadata": {},
   "outputs": [
    {
     "name": "stdout",
     "output_type": "stream",
     "text": [
      "\u001b[31m  A  B  C  D  E  F  G  H  I  J  K\u001b[0m\n",
      "\u001b[34m1  \u001b[0m\u001b[34mb\u001b[0m  \u001b[34mb\u001b[0m  .  .  .  .  .  .  .  .  .  \u001b[34m1  \u001b[0m\n",
      "  \u001b[34m2  \u001b[0m.  \u001b[34mb\u001b[0m  .  .  .  .  .  .  .  .  .  \u001b[34m2  \u001b[0m\n",
      "    \u001b[34m3  \u001b[0m.  .  \u001b[31mr\u001b[0m  .  .  .  .  .  .  .  .  \u001b[34m3  \u001b[0m\n",
      "      \u001b[34m4  \u001b[0m.  .  .  .  .  .  .  .  .  .  .  \u001b[34m4  \u001b[0m\n",
      "        \u001b[34m5  \u001b[0m.  .  .  .  .  .  .  .  .  .  .  \u001b[34m5  \u001b[0m\n",
      "          \u001b[34m6  \u001b[0m.  .  .  .  .  .  .  .  .  .  .  \u001b[34m6  \u001b[0m\n",
      "            \u001b[34m7  \u001b[0m.  .  .  .  .  .  .  \u001b[31mr\u001b[0m  .  .  .  \u001b[34m7  \u001b[0m\n",
      "              \u001b[34m8  \u001b[0m.  .  .  .  .  .  .  \u001b[31mr\u001b[0m  .  .  .  \u001b[34m8  \u001b[0m\n",
      "                \u001b[34m9  \u001b[0m.  .  .  .  .  .  .  .  .  .  .  \u001b[34m9  \u001b[0m\n",
      "                  \u001b[34m10  \u001b[0m.  .  .  .  .  .  .  .  .  .  .  \u001b[34m10  \u001b[0m\n",
      "                    \u001b[34m11  \u001b[0m.  .  .  .  .  .  .  .  .  .  .  \u001b[34m11\n",
      "\u001b[31m                         A  B  C  D  E  F  G  H  I  J  K\u001b[0m\n",
      "\n"
     ]
    }
   ],
   "source": [
    "# Cette constante signifie une position sur le plateau\n",
    "# hex.Board.A1\n",
    "\n",
    "# La méthode push permet de jouer le prochain coup sur l'objet `board`.\n",
    "board.push(hex.Board.A1)\n",
    "\n",
    "# Joueur bleu vient de jouer, c'est donc au tour de joueur rouge.\n",
    "board.push(hex.Board.C3)\n",
    "\n",
    "board.push(hex.Board.B1)\n",
    "board.push(hex.Board.H8)\n",
    "board.push(hex.Board.B2)\n",
    "board.push(hex.Board.H7)\n",
    "\n",
    "print(board)"
   ]
  },
  {
   "cell_type": "markdown",
   "metadata": {},
   "source": [
    "**3. Condition de victoire**\n",
    "\n",
    "Un joueur est considéré comme gagnant, lorsqu'il est parvenu à construire un chemin constitué exclusivement de ses hexagones et rejoignant ses côtés du plateau. En effet, comme l'indique le premier paragraphe de ce chapitre, chaque jour possède une paire de côté du plateau.\n",
    "\n",
    "L'exemple ci-dessous illustrent cette condition :"
   ]
  },
  {
   "cell_type": "code",
   "execution_count": 3,
   "metadata": {},
   "outputs": [
    {
     "name": "stdout",
     "output_type": "stream",
     "text": [
      "\u001b[31m  A  B  C  D  E  F  G  H  I  J  K\u001b[0m\n",
      "\u001b[34m1  \u001b[0m\u001b[34mb\u001b[0m  \u001b[34mb\u001b[0m  .  .  .  .  .  .  .  .  .  \u001b[34m1  \u001b[0m\n",
      "  \u001b[34m2  \u001b[0m.  \u001b[34mb\u001b[0m  \u001b[34mb\u001b[0m  \u001b[34mb\u001b[0m  \u001b[34mb\u001b[0m  \u001b[34mb\u001b[0m  \u001b[34mb\u001b[0m  \u001b[34mb\u001b[0m  \u001b[34mb\u001b[0m  \u001b[34mb\u001b[0m  .  \u001b[34m2  \u001b[0m\n",
      "    \u001b[34m3  \u001b[0m.  \u001b[31mr\u001b[0m  \u001b[31mr\u001b[0m  .  .  .  .  .  .  .  .  \u001b[34m3  \u001b[0m\n",
      "      \u001b[34m4  \u001b[0m.  .  .  \u001b[31mr\u001b[0m  .  .  .  .  .  .  .  \u001b[34m4  \u001b[0m\n",
      "        \u001b[34m5  \u001b[0m.  .  .  \u001b[31mr\u001b[0m  .  .  .  .  .  .  .  \u001b[34m5  \u001b[0m\n",
      "          \u001b[34m6  \u001b[0m.  .  .  .  \u001b[31mr\u001b[0m  .  .  .  .  .  .  \u001b[34m6  \u001b[0m\n",
      "            \u001b[34m7  \u001b[0m.  .  .  .  .  .  .  \u001b[31mr\u001b[0m  .  .  .  \u001b[34m7  \u001b[0m\n",
      "              \u001b[34m8  \u001b[0m.  .  .  .  .  .  .  \u001b[31mr\u001b[0m  \u001b[31mr\u001b[0m  .  .  \u001b[34m8  \u001b[0m\n",
      "                \u001b[34m9  \u001b[0m.  .  \u001b[31mr\u001b[0m  .  .  .  .  .  .  .  .  \u001b[34m9  \u001b[0m\n",
      "                  \u001b[34m10  \u001b[0m.  \u001b[31mr\u001b[0m  .  .  .  .  .  .  .  .  .  \u001b[34m10  \u001b[0m\n",
      "                    \u001b[34m11  \u001b[0m\u001b[31mr\u001b[0m  .  .  .  .  .  .  .  .  .  .  \u001b[34m11\n",
      "\u001b[31m                         A  B  C  D  E  F  G  H  I  J  K\u001b[0m\n",
      "\n"
     ]
    },
    {
     "data": {
      "text/plain": [
       "False"
      ]
     },
     "execution_count": 3,
     "metadata": {},
     "output_type": "execute_result"
    }
   ],
   "source": [
    "# On joue une dizaine de coups ...\n",
    "\n",
    "board.push(hex.Board.C2)\n",
    "board.push(hex.Board.E6)\n",
    "board.push(hex.Board.D2)\n",
    "board.push(hex.Board.B3)\n",
    "board.push(hex.Board.E2)\n",
    "board.push(hex.Board.I8)\n",
    "board.push(hex.Board.F2)\n",
    "board.push(hex.Board.A11)\n",
    "board.push(hex.Board.G2)\n",
    "board.push(hex.Board.D4)\n",
    "board.push(hex.Board.H2)\n",
    "board.push(hex.Board.D5)\n",
    "board.push(hex.Board.I2)\n",
    "board.push(hex.Board.B10)\n",
    "board.push(hex.Board.J2)\n",
    "board.push(hex.Board.C9)\n",
    "\n",
    "print(board)\n",
    "\n",
    "# On vérifie si le joueur bleu est gagnant\n",
    "board.is_blue_winner()"
   ]
  },
  {
   "cell_type": "markdown",
   "metadata": {},
   "source": [
    "En effet, le joueur bleu n'est pas gagnant dans cette disposition puisque il n'a pas rejoint ses deux côtées, il en est pourtant très proche !"
   ]
  },
  {
   "cell_type": "code",
   "execution_count": 4,
   "metadata": {},
   "outputs": [
    {
     "name": "stdout",
     "output_type": "stream",
     "text": [
      "\u001b[31m  A  B  C  D  E  F  G  H  I  J  K\u001b[0m\n",
      "\u001b[34m1  \u001b[0m\u001b[34mb\u001b[0m  \u001b[34mb\u001b[0m  .  .  .  .  .  .  .  .  .  \u001b[34m1  \u001b[0m\n",
      "  \u001b[34m2  \u001b[0m.  \u001b[34mb\u001b[0m  \u001b[34mb\u001b[0m  \u001b[34mb\u001b[0m  \u001b[34mb\u001b[0m  \u001b[34mb\u001b[0m  \u001b[34mb\u001b[0m  \u001b[34mb\u001b[0m  \u001b[34mb\u001b[0m  \u001b[34mb\u001b[0m  \u001b[34mb\u001b[0m  \u001b[34m2  \u001b[0m\n",
      "    \u001b[34m3  \u001b[0m.  \u001b[31mr\u001b[0m  \u001b[31mr\u001b[0m  .  .  .  .  .  .  .  .  \u001b[34m3  \u001b[0m\n",
      "      \u001b[34m4  \u001b[0m.  .  .  \u001b[31mr\u001b[0m  .  .  .  .  .  .  .  \u001b[34m4  \u001b[0m\n",
      "        \u001b[34m5  \u001b[0m.  .  .  \u001b[31mr\u001b[0m  .  .  .  .  .  .  .  \u001b[34m5  \u001b[0m\n",
      "          \u001b[34m6  \u001b[0m.  .  .  .  \u001b[31mr\u001b[0m  .  .  .  .  .  .  \u001b[34m6  \u001b[0m\n",
      "            \u001b[34m7  \u001b[0m.  .  .  .  .  .  .  \u001b[31mr\u001b[0m  .  .  .  \u001b[34m7  \u001b[0m\n",
      "              \u001b[34m8  \u001b[0m.  .  .  .  .  .  .  \u001b[31mr\u001b[0m  \u001b[31mr\u001b[0m  .  .  \u001b[34m8  \u001b[0m\n",
      "                \u001b[34m9  \u001b[0m.  .  \u001b[31mr\u001b[0m  .  .  .  .  .  .  .  .  \u001b[34m9  \u001b[0m\n",
      "                  \u001b[34m10  \u001b[0m.  \u001b[31mr\u001b[0m  .  .  .  .  .  .  .  .  .  \u001b[34m10  \u001b[0m\n",
      "                    \u001b[34m11  \u001b[0m\u001b[31mr\u001b[0m  .  .  .  .  .  .  .  .  .  .  \u001b[34m11\n",
      "\u001b[31m                         A  B  C  D  E  F  G  H  I  J  K\u001b[0m\n",
      "\n"
     ]
    },
    {
     "data": {
      "text/plain": [
       "True"
      ]
     },
     "execution_count": 4,
     "metadata": {},
     "output_type": "execute_result"
    }
   ],
   "source": [
    "board.push(hex.Board.K2)\n",
    "\n",
    "print(board)\n",
    "board.is_blue_winner()"
   ]
  },
  {
   "cell_type": "markdown",
   "metadata": {},
   "source": [
    "Le joueur rouge n'est pas parvenu à empêcher le joueur bleu à rejoindre ses deux côtés du plateau avec ses hexagones.\n",
    "\n",
    "Maintenant que le package implémentant le jeu de Hex à été présenté, nous allons pouvoir se pencher sur l'implémentation d'un premier algorithme dans le deuxième chapitre."
   ]
  }
 ],
 "metadata": {
  "kernelspec": {
   "display_name": "Python 3",
   "language": "python",
   "name": "python3"
  },
  "language_info": {
   "codemirror_mode": {
    "name": "ipython",
    "version": 3
   },
   "file_extension": ".py",
   "mimetype": "text/x-python",
   "name": "python",
   "nbconvert_exporter": "python",
   "pygments_lexer": "ipython3",
   "version": "3.8.5"
  },
  "metadata": {
   "interpreter": {
    "hash": "31f2aee4e71d21fbe5cf8b01ff0e069b9275f58929596ceb00d14d90e3e16cd6"
   }
  }
 },
 "nbformat": 4,
 "nbformat_minor": 2
}
