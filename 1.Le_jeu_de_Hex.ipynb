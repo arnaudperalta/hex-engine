{
 "metadata": {
  "language_info": {
   "codemirror_mode": {
    "name": "ipython",
    "version": 3
   },
   "file_extension": ".py",
   "mimetype": "text/x-python",
   "name": "python",
   "nbconvert_exporter": "python",
   "pygments_lexer": "ipython3",
   "version": "3.8.5-final"
  },
  "orig_nbformat": 2,
  "kernelspec": {
   "name": "python385jvsc74a57bd031f2aee4e71d21fbe5cf8b01ff0e069b9275f58929596ceb00d14d90e3e16cd6",
   "display_name": "Python 3.8.5 64-bit"
  },
  "metadata": {
   "interpreter": {
    "hash": "31f2aee4e71d21fbe5cf8b01ff0e069b9275f58929596ceb00d14d90e3e16cd6"
   }
  }
 },
 "nbformat": 4,
 "nbformat_minor": 2,
 "cells": [
  {
   "cell_type": "code",
   "execution_count": 1,
   "metadata": {
    "tags": []
   },
   "outputs": [
    {
     "output_type": "stream",
     "name": "stdout",
     "text": [
      ".  .  .  .  .  .  .  .  .  .  .  \n  .  .  .  .  .  .  .  .  .  .  .  \n    .  .  .  .  .  .  .  .  .  .  .  \n      .  .  .  .  .  .  .  .  .  .  .  \n        .  .  .  .  .  .  .  .  .  .  .  \n          .  .  .  .  .  .  .  .  .  .  .  \n            .  .  .  .  .  .  .  .  .  .  .  \n              .  .  .  .  .  .  .  .  .  .  .  \n                .  .  .  .  .  .  .  .  .  .  .  \n                  .  .  .  .  .  .  .  .  .  .  .  \n                    .  .  .  .  .  .  .  .  .  .  b  \n"
     ]
    }
   ],
   "source": [
    "from hex_game.hex import Board, neighbors\n",
    "from hex_engine.common import transition_value, get_score\n",
    "from hex_engine.minimax_engine import get_best_move\n",
    "\n",
    "board = Board()\n",
    "while not board.is_game_over():\n",
    "    board.push(get_best_move(board, 1, board.turn))\n",
    "\n",
    "print(board)"
   ]
  },
  {
   "cell_type": "code",
   "execution_count": null,
   "metadata": {},
   "outputs": [],
   "source": [
    "print(board)"
   ]
  }
 ]
}