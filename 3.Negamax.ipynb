{
 "cells": [
  {
   "cell_type": "markdown",
   "id": "north-judges",
   "metadata": {},
   "source": [
    "# L'algorithme Negamax alpha-beta"
   ]
  },
  {
   "cell_type": "markdown",
   "id": "antique-hearing",
   "metadata": {},
   "source": [
    "**1. Présentation de l'algortihme**"
   ]
  },
  {
   "cell_type": "markdown",
   "id": "extreme-metabolism",
   "metadata": {},
   "source": [
    "Negamax est une variation de l'algorithme minimax basé sur la propriété suivante :\n",
    "\n",
    "`evaluation tant que joueur A = -(evaluation en tant que joueur B)`\n",
    "\n",
    "En effet, nous avons observé dans le second chapitre que la fonction d'évaluation fonctionnait de cette façon.\n",
    "\n",
    "Evaluation du plateau pour le joueur bleu :\n",
    "`score_joueur_rouge - score_joueur_bleu`\n",
    "\n",
    "Evaluation du plateau pour le joueur rouge :\n",
    "`score_joueur_bleu - score_joueur_rouge`\n",
    "\n",
    "Le score étant représenté par la distance restante à réalisée pour gagner la partie, si le joueur bleu à un score de `3` et le joueur rouge un score de `2`, dans ce cas l'évaluation du  plateau sera de `1` pour le joueur bleu et de `-1` pour le joueur rouge.\n",
    "\n",
    "On considère donc que notre fonction d'évaluation actuelle correspond bien à la propriété de Negamax, on peux donc implémenter cet algorithme.\n"
   ]
  },
  {
   "cell_type": "code",
   "execution_count": null,
   "id": "historic-acoustic",
   "metadata": {
    "scrolled": true
   },
   "outputs": [],
   "source": [
    "from hex_game import hex\n",
    "from hex_engine import common\n",
    "\n",
    "# Création d'un plateau de hex\n",
    "board = hex.Board()\n",
    "\n",
    "# On joue plusieurs coups\n",
    "board.push(hex.Board.B2)\n",
    "board.push(hex.Board.D1)\n",
    "board.push(hex.Board.A2)\n",
    "board.push(hex.Board.D2)\n",
    "board.push(hex.Board.C2)\n",
    "board.push(hex.Board.D3)\n",
    "board.push(hex.Board.E6)\n",
    "board.push(hex.Board.D4)\n",
    "\n",
    "print(board)\n",
    "print(\"Score du joueur bleu : \" + str(common.get_score(board, hex.Board.BLUE)))\n",
    "print(\"Score du joueur rouge : \" + str(common.get_score(board, hex.Board.RED)))\n",
    "print(\"Évaluation du plateau : \" + str(common.board_evaluation(board)))"
   ]
  },
  {
   "cell_type": "markdown",
   "id": "contained-genre",
   "metadata": {},
   "source": [
    "**2. Exécution de l'algorithme**"
   ]
  },
  {
   "cell_type": "markdown",
   "id": "choice-charlotte",
   "metadata": {},
   "source": [
    "Lors du second chapitre nous avons exécuté l'algorithme sur deux positions différentes pour observer les évalutions retournés, nous pouvons refaire cette expérience mais cette fois ci en comparant les temps d'exécution :"
   ]
  },
  {
   "cell_type": "code",
   "execution_count": null,
   "id": "prostate-combine",
   "metadata": {
    "scrolled": true
   },
   "outputs": [],
   "source": [
    "from hex_engine import negamax_engine\n",
    "from hex_engine import minimax_engine\n",
    "from math import inf\n",
    "import time\n",
    "\n",
    "# On exécute minimax sur le plateau actuel avec le jouer rouge\n",
    "# comme joueur maximisant (puisqu'un coup rouge vient d'être joué)\n",
    "# avec une profondeur de 2.\n",
    "start_time = time.time()\n",
    "negamax_engine.negamax_ab(board, -inf, inf, hex.Board.RED, 2)\n",
    "print(\"Première exécution Negamax : %s seconds\" % (time.time() - start_time))\n",
    "start_time = time.time()\n",
    "minimax_engine.minimax_ab(board, -inf, inf, hex.Board.RED, 2)\n",
    "print(\"Première exécution Minimax : %s seconds\" % (time.time() - start_time))\n",
    "start_time = time.time()\n",
    "\n",
    "# Que serait l'évaluation si le coup précédent était déplacer ailleurs sur le plateau ?\n",
    "board.pop()\n",
    "board.push(hex.Board.K10)\n",
    "negamax_engine.negamax_ab(board, -inf, inf, hex.Board.RED, 2)\n",
    "print(\"Seconde exécution Negamax : %s seconds\" % (time.time() - start_time))\n",
    "start_time = time.time()\n",
    "minimax_engine.minimax_ab(board, -inf, inf, hex.Board.RED, 2)\n",
    "print(\"Seconde exécution Minimax : %s seconds\" % (time.time() - start_time))\n"
   ]
  },
  {
   "cell_type": "markdown",
   "id": "educated-finish",
   "metadata": {},
   "source": [
    "**3. Jeu libre contre l'algorithme**"
   ]
  },
  {
   "cell_type": "markdown",
   "id": "atomic-oakland",
   "metadata": {},
   "source": [
    "Tous comme le chapitre précédent, on peux saisir chaque coup à jouer dans l'entrée standard de façon a réaliser une partie contre l'algorithme Negamax."
   ]
  },
  {
   "cell_type": "code",
   "execution_count": null,
   "id": "vanilla-rental",
   "metadata": {},
   "outputs": [],
   "source": [
    "from IPython.display import clear_output\n",
    "\n",
    "board = hex.Board()\n",
    "\n",
    "while not board.is_game_over():\n",
    "    clear_output(wait=True)\n",
    "    print(board)\n",
    "    while True:\n",
    "        time.sleep(0.5)\n",
    "        move = input()\n",
    "        try:\n",
    "            board.push(hex.parse_move(move))\n",
    "            break\n",
    "        except hex.InvalidMoveError:\n",
    "            print(\"Coup invalide !\")\n",
    "            continue\n",
    "    print(\"Exécution de minimax ...\")\n",
    "    # On peux augmenter la profondeur selon l'efficacité du kernel.\n",
    "    if not board.is_game_over():\n",
    "        board.push(negamax_engine.get_best_move(board, 1, board.turn))\n",
    "\n",
    "clear_output(wait=True)\n",
    "print(board)\n",
    "if board.is_blue_winner():\n",
    "    print(\"Le joueur bleu à gagné la partie !\")\n",
    "else:\n",
    "    print(\"Le joueur rouge à gagné la partie !\")"
   ]
  }
 ],
 "metadata": {
  "kernelspec": {
   "display_name": "Python 3",
   "language": "python",
   "name": "python3"
  },
  "language_info": {
   "codemirror_mode": {
    "name": "ipython",
    "version": 3
   },
   "file_extension": ".py",
   "mimetype": "text/x-python",
   "name": "python",
   "nbconvert_exporter": "python",
   "pygments_lexer": "ipython3",
   "version": "3.8.5"
  }
 },
 "nbformat": 4,
 "nbformat_minor": 5
}
