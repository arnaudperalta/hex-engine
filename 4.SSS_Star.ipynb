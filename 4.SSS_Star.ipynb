{
 "cells": [
  {
   "cell_type": "markdown",
   "id": "technological-treasury",
   "metadata": {},
   "source": [
    "# L'algorithme SSS*"
   ]
  },
  {
   "cell_type": "markdown",
   "id": "computational-breathing",
   "metadata": {},
   "source": [
    "**1. Présentation de l'algorithme**"
   ]
  },
  {
   "cell_type": "markdown",
   "id": "inclusive-nashville",
   "metadata": {},
   "source": [
    "SSS* est un algorithme conçu pour calculé la valeur minimax d'un arbre de jeu, en effet il est a été établit de façon à parcourir les noeuds d'un arbre d'une façon différente et pour un total de noeud visité inférieur à l'algorithme Minimax alpha-beta.\n",
    "\n",
    "Tout comme Negamax, la fonction d'évaluation doit être revisité de façon à changer le signe du résultat selon le joueur maximisant l'évaluation."
   ]
  },
  {
   "cell_type": "code",
   "execution_count": 2,
   "id": "danish-joining",
   "metadata": {},
   "outputs": [
    {
     "name": "stdout",
     "output_type": "stream",
     "text": [
      "\u001b[31m  A  B  C  D  E  F  G  H  I  J  K\u001b[0m\n",
      "\u001b[34m1  \u001b[0m.  .  .  \u001b[31mr\u001b[0m  .  .  .  .  .  .  .  \u001b[34m1  \u001b[0m\n",
      "  \u001b[34m2  \u001b[0m\u001b[34mb\u001b[0m  \u001b[34mb\u001b[0m  \u001b[34mb\u001b[0m  \u001b[31mr\u001b[0m  .  .  .  .  .  .  .  \u001b[34m2  \u001b[0m\n",
      "    \u001b[34m3  \u001b[0m.  .  .  \u001b[31mr\u001b[0m  .  .  .  .  .  .  .  \u001b[34m3  \u001b[0m\n",
      "      \u001b[34m4  \u001b[0m.  .  .  \u001b[31mr\u001b[0m  .  .  .  .  .  .  .  \u001b[34m4  \u001b[0m\n",
      "        \u001b[34m5  \u001b[0m.  .  .  .  .  .  .  .  .  .  .  \u001b[34m5  \u001b[0m\n",
      "          \u001b[34m6  \u001b[0m.  .  .  .  \u001b[34mb\u001b[0m  .  .  .  .  .  .  \u001b[34m6  \u001b[0m\n",
      "            \u001b[34m7  \u001b[0m.  .  .  .  .  .  .  .  .  .  .  \u001b[34m7  \u001b[0m\n",
      "              \u001b[34m8  \u001b[0m.  .  .  .  .  .  .  .  .  .  .  \u001b[34m8  \u001b[0m\n",
      "                \u001b[34m9  \u001b[0m.  .  .  .  .  .  .  .  .  .  .  \u001b[34m9  \u001b[0m\n",
      "                  \u001b[34m10  \u001b[0m.  .  .  .  .  .  .  .  .  .  .  \u001b[34m10  \u001b[0m\n",
      "                    \u001b[34m11  \u001b[0m.  .  .  .  .  .  .  .  .  .  .  \u001b[34m11\n",
      "\u001b[31m                         A  B  C  D  E  F  G  H  I  J  K\u001b[0m\n",
      "\n"
     ]
    }
   ],
   "source": [
    "from hex_game import hex\n",
    "from hex_engine import common\n",
    "\n",
    "# Création et préparation d'un plateau de hex\n",
    "board = hex.Board()\n",
    "\n",
    "board.push(hex.Board.B2)\n",
    "board.push(hex.Board.D1)\n",
    "board.push(hex.Board.A2)\n",
    "board.push(hex.Board.D2)\n",
    "board.push(hex.Board.C2)\n",
    "board.push(hex.Board.D3)\n",
    "board.push(hex.Board.E6)\n",
    "board.push(hex.Board.D4)\n",
    "\n",
    "print(board)"
   ]
  },
  {
   "cell_type": "markdown",
   "id": "verified-beverage",
   "metadata": {},
   "source": [
    "**2. Exécution de l'algorithme**"
   ]
  },
  {
   "cell_type": "markdown",
   "id": "immediate-alfred",
   "metadata": {},
   "source": [
    "Nous pouvons désormais comparer les temps d'exécution de Minimax alpha-beta, de Negamax et de SSS* :"
   ]
  },
  {
   "cell_type": "code",
   "execution_count": 3,
   "id": "noted-strike",
   "metadata": {},
   "outputs": [
    {
     "name": "stdout",
     "output_type": "stream",
     "text": [
      "Résultat de SSS* : -3\n",
      "Première exécution SSS* : 0.12470865249633789 seconds\n",
      "Résultat de Minimax : -3\n",
      "Première exécution Minimax : 3.9811387062072754 seconds\n",
      "Résultat de Negamax* : 3\n",
      "Première exécution Negamax : 3.7783658504486084 seconds\n",
      "Résultat de SSS* : -2\n",
      "Seconde exécution SSS* : 0.12280440330505371 seconds\n",
      "Seconde exécution Minimax : 3.8271982669830322 seconds\n",
      "Première exécution Negamax : 3.8172898292541504 seconds\n"
     ]
    }
   ],
   "source": [
    "from hex_engine import sss_engine\n",
    "from hex_engine import minimax_engine\n",
    "from hex_engine import negamax_engine\n",
    "from math import inf\n",
    "import time\n",
    "\n",
    "# On exécute minimax sur le plateau actuel avec le jouer rouge\n",
    "# comme joueur maximisant (puisqu'un coup rouge vient d'être joué)\n",
    "# avec une profondeur de 2.\n",
    "start_time = time.time()\n",
    "print(\"Résultat de SSS* : \" + str(sss_engine.sss_star(board, hex.Board.RED, 2)))\n",
    "print(\"Première exécution SSS* : %s seconds\" % (time.time() - start_time))\n",
    "start_time = time.time()\n",
    "print(\"Résultat de Minimax : \" + str(minimax_engine.minimax_ab(board, -inf, inf, hex.Board.RED, 2)))\n",
    "print(\"Première exécution Minimax : %s seconds\" % (time.time() - start_time))\n",
    "start_time = time.time()\n",
    "print(\"Résultat de Negamax* : \" + str(negamax_engine.negamax_ab(board, -inf, inf, hex.Board.RED, 2)))\n",
    "print(\"Première exécution Negamax : %s seconds\" % (time.time() - start_time))\n",
    "\n",
    "# Que serait l'évaluation si le coup précédent était déplacer ailleurs sur le plateau ?\n",
    "board.pop()\n",
    "board.push(hex.Board.K10)\n",
    "start_time = time.time()\n",
    "print(\"Résultat de SSS* : \" + str(sss_engine.sss_star(board, hex.Board.RED, 2)))\n",
    "print(\"Seconde exécution SSS* : %s seconds\" % (time.time() - start_time))\n",
    "start_time = time.time()\n",
    "print(\"Résultat de Minimax : \" + str(minimax_engine.minimax_ab(board, -inf, inf, hex.Board.RED, 2)))\n",
    "print(\"Seconde exécution Minimax : %s seconds\" % (time.time() - start_time))\n",
    "start_time = time.time()\n",
    "print(\"Résultat de Negamax* : \" + str(negamax_engine.negamax_ab(board, -inf, inf, hex.Board.RED, 2)))\n",
    "print(\"Première exécution Negamax : %s seconds\" % (time.time() - start_time))"
   ]
  },
  {
   "cell_type": "markdown",
   "id": "compound-russian",
   "metadata": {},
   "source": [
    "**3. Jeu libre contre l'algorithme**"
   ]
  },
  {
   "cell_type": "code",
   "execution_count": null,
   "id": "atmospheric-session",
   "metadata": {},
   "outputs": [],
   "source": [
    "from IPython.display import clear_output\n",
    "\n",
    "board = hex.Board()\n",
    "\n",
    "while not board.is_game_over():\n",
    "    clear_output(wait=True)\n",
    "    print(board)\n",
    "    while True:\n",
    "        time.sleep(0.5)\n",
    "        move = input()\n",
    "        try:\n",
    "            board.push(hex.parse_move(move))\n",
    "            break\n",
    "        except hex.InvalidMoveError:\n",
    "            print(\"Coup invalide !\")\n",
    "            continue\n",
    "    print(\"Exécution de SSS* ...\")\n",
    "    # On peux augmenter la profondeur selon l'efficacité du kernel.\n",
    "    if not board.is_game_over():\n",
    "        board.push(sss_engine.get_best_move(board, 1, board.turn))\n",
    "\n",
    "clear_output(wait=True)\n",
    "print(board)\n",
    "if board.is_blue_winner():\n",
    "    print(\"Le joueur bleu à gagné la partie !\")\n",
    "else:\n",
    "    print(\"Le joueur rouge à gagné la partie !\")"
   ]
  }
 ],
 "metadata": {
  "kernelspec": {
   "display_name": "Python 3",
   "language": "python",
   "name": "python3"
  },
  "language_info": {
   "codemirror_mode": {
    "name": "ipython",
    "version": 3
   },
   "file_extension": ".py",
   "mimetype": "text/x-python",
   "name": "python",
   "nbconvert_exporter": "python",
   "pygments_lexer": "ipython3",
   "version": "3.8.5"
  }
 },
 "nbformat": 4,
 "nbformat_minor": 5
}
